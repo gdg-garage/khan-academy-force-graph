{
 "cells": [
  {
   "cell_type": "code",
   "execution_count": 1,
   "metadata": {
    "collapsed": true
   },
   "outputs": [],
   "source": [
    "import json"
   ]
  },
  {
   "cell_type": "code",
   "execution_count": 2,
   "metadata": {
    "collapsed": true
   },
   "outputs": [],
   "source": [
    "with open(\"./parser/src/topictree.json\", \"r\") as f:\n",
    "    data = json.load(f)"
   ]
  },
  {
   "cell_type": "code",
   "execution_count": 6,
   "metadata": {
    "collapsed": false
   },
   "outputs": [
    {
     "data": {
      "text/plain": [
       "[u'icon_src',\n",
       " u'domain_slug',\n",
       " u'relative_url',\n",
       " u'creation_date',\n",
       " u'web_url',\n",
       " u'translated_standalone_title',\n",
       " u'has_user_authored_content_types',\n",
       " u'translated_title',\n",
       " u'gplus_url',\n",
       " u'id',\n",
       " u'hide',\n",
       " u'title',\n",
       " u'child_data',\n",
       " u'deleted',\n",
       " u'user_authored_content_types_info',\n",
       " u'children',\n",
       " u'user_authored_content_types',\n",
       " u'alternate_slugs',\n",
       " u'standalone_title',\n",
       " u'logo_image_url',\n",
       " u'in_knowledge_map',\n",
       " u'description',\n",
       " u'node_slug',\n",
       " u'twitter_url',\n",
       " u'listed_locales',\n",
       " u'facebook_url',\n",
       " u'render_type',\n",
       " u'background_image_url',\n",
       " u'background_image_caption',\n",
       " u'current_revision_key',\n",
       " u'topic_page_url',\n",
       " u'extended_slug',\n",
       " u'deleted_mod_time',\n",
       " u'slug',\n",
       " u'tags',\n",
       " u'kind',\n",
       " u'do_not_publish',\n",
       " u'sha',\n",
       " u'translated_description',\n",
       " u'ka_url',\n",
       " u'content_id',\n",
       " u'content_kind']"
      ]
     },
     "execution_count": 6,
     "metadata": {},
     "output_type": "execute_result"
    }
   ],
   "source": [
    "data.keys()"
   ]
  },
  {
   "cell_type": "code",
   "execution_count": 20,
   "metadata": {
    "collapsed": false
   },
   "outputs": [
    {
     "data": {
      "text/plain": [
       "[u'New and noteworthy',\n",
       " u'Math',\n",
       " u'Science',\n",
       " u'Economics and finance',\n",
       " u'Arts and humanities',\n",
       " u'Computing',\n",
       " u'Test prep',\n",
       " u'Partner content',\n",
       " u'College admissions',\n",
       " u'Talks and interviews',\n",
       " u'Coach resources']"
      ]
     },
     "execution_count": 20,
     "metadata": {},
     "output_type": "execute_result"
    }
   ],
   "source": [
    "[x['title'] for x in data['children'] if x['child_data']]"
   ]
  },
  {
   "cell_type": "code",
   "execution_count": 21,
   "metadata": {
    "collapsed": true
   },
   "outputs": [],
   "source": [
    "import xmlrpclib"
   ]
  },
  {
   "cell_type": "code",
   "execution_count": 22,
   "metadata": {
    "collapsed": true
   },
   "outputs": [],
   "source": [
    "server = xmlrpclib.Server('http://localhost:20738/RPC2')"
   ]
  },
  {
   "cell_type": "code",
   "execution_count": 23,
   "metadata": {
    "collapsed": true
   },
   "outputs": [],
   "source": [
    "G = server.ubigraph"
   ]
  },
  {
   "cell_type": "code",
   "execution_count": 24,
   "metadata": {
    "collapsed": false
   },
   "outputs": [
    {
     "data": {
      "text/plain": [
       "0"
      ]
     },
     "execution_count": 24,
     "metadata": {},
     "output_type": "execute_result"
    }
   ],
   "source": [
    "x = G.new_vertex()\n",
    "y = G.new_vertex()\n",
    "G.new_edge(x,y)\n",
    "G.set_vertex_attribute(x, 'color', '#ff0000')\n",
    "G.set_vertex_attribute(y, 'shape', 'torus')\n",
    "G.set_vertex_attribute(y, 'color', '#ffff40')\n",
    "G.set_vertex_attribute(x, 'label', 'This is red')"
   ]
  },
  {
   "cell_type": "code",
   "execution_count": null,
   "metadata": {
    "collapsed": false
   },
   "outputs": [],
   "source": [
    "G.clear()\n",
    "\n",
    "tagged_nodes = {}\n",
    "\n",
    "def render_children_recursive(node, parent_vertex, depth):\n",
    "    depth += 1\n",
    "    if depth > 10:\n",
    "        return\n",
    "    if node.has_key('keywords') and node['keywords'] != \"\":\n",
    "        # print(node['keywords'])\n",
    "        for tag in node['keywords'].split(', '):\n",
    "            if tag in tagged_nodes:\n",
    "                tagged_nodes[tag].append(hash(node['title']))\n",
    "            else:\n",
    "                tagged_nodes[tag] = [hash(node['title'])]\n",
    "    if not 'children' in node:\n",
    "        return\n",
    "    for child in [ch for ch in node['children']]:\n",
    "        x = G.new_vertex()\n",
    "        if ch.has_key('title'):\n",
    "            G.set_vertex_attribute(x, 'label', child['title'])\n",
    "        G.new_edge(x, parent_vertex)\n",
    "        if not child.has_key('children'):\n",
    "            # continue\n",
    "            pass\n",
    "        render_children_recursive(child, x, depth)\n",
    "        \n",
    "\n",
    "#for a in [x for x in data['children'] if x['child_data']]:\n",
    "#    root = G.new_vertex()\n",
    "#    render_children_recursive(a, root)\n",
    "\n",
    "science = [node for node in data['children'] if node['title'] == 'Science'][0]\n",
    "\n",
    "root = G.new_vertex()\n",
    "render_children_recursive(data, root, 0)\n",
    "print(tagged_nodes)"
   ]
  },
  {
   "cell_type": "code",
   "execution_count": null,
   "metadata": {
    "collapsed": true
   },
   "outputs": [],
   "source": []
  },
  {
   "cell_type": "code",
   "execution_count": null,
   "metadata": {
    "collapsed": true
   },
   "outputs": [],
   "source": []
  }
 ],
 "metadata": {
  "kernelspec": {
   "display_name": "Python 2",
   "language": "python",
   "name": "python2"
  },
  "language_info": {
   "codemirror_mode": {
    "name": "ipython",
    "version": 2
   },
   "file_extension": ".py",
   "mimetype": "text/x-python",
   "name": "python",
   "nbconvert_exporter": "python",
   "pygments_lexer": "ipython2",
   "version": "2.7.9"
  }
 },
 "nbformat": 4,
 "nbformat_minor": 0
}
